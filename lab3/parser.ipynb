{
 "cells": [
  {
   "cell_type": "code",
   "execution_count": null,
   "metadata": {},
   "outputs": [],
   "source": [
    "import time\n",
    "import csv\n",
    "\n",
    "from selenium import webdriver\n",
    "from selenium.webdriver.chrome.options import Options\n",
    "from selenium.webdriver.common.by import By\n",
    "\n",
    "\n",
    "chrome_options = Options()\n",
    "chrome_options.add_argument(\"--headless\") \n",
    "\n",
    "driver = webdriver.Chrome(options=chrome_options)\n",
    "\n",
    "url = \"https://quotes.toscrape.com/\"\n",
    "data = []\n",
    "pages = 3\n",
    "for page in range(1, pages + 1):\n",
    "    driver.get(f\"{url}page/{page}/\")\n",
    "    time.sleep(2)\n",
    "    \n",
    "    quotes = driver.find_elements(By.CSS_SELECTOR, \"div.quote\")\n",
    "    for quote in quotes:\n",
    "        try:\n",
    "            text = quote.find_element(By.CLASS_NAME, 'text').text\n",
    "            author = quote.find_element(By.CLASS_NAME, 'author').text\n",
    "            author_url = quote.find_element(By.TAG_NAME, 'a').get_attribute('href')\n",
    "            tags_elements = quote.find_elements(By.CLASS_NAME, 'tag')\n",
    "            tags = [tag.text for tag in tags_elements]\n",
    "            data.append([text, author, author_url, tags])\n",
    "        except:\n",
    "            continue\n",
    "\n",
    "with open(file=\"./quotes.csv\", mode=\"w\", newline=\"\", encoding=\"utf-8\") as file:\n",
    "    writer = csv.writer(file)\n",
    "    writer.writerow([\"Quote\", \"Author\", \"Author_link\", \"Tags\"])\n",
    "    writer.writerows(data)\n",
    "    \n",
    "driver.quit()"
   ]
  }
 ],
 "metadata": {
  "kernelspec": {
   "display_name": "Python 3",
   "language": "python",
   "name": "python3"
  },
  "language_info": {
   "codemirror_mode": {
    "name": "ipython",
    "version": 3
   },
   "file_extension": ".py",
   "mimetype": "text/x-python",
   "name": "python",
   "nbconvert_exporter": "python",
   "pygments_lexer": "ipython3",
   "version": "3.13.2"
  }
 },
 "nbformat": 4,
 "nbformat_minor": 2
}
